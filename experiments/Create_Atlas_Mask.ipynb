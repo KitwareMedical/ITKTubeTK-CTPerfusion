{
 "cells": [
  {
   "cell_type": "code",
   "execution_count": 14,
   "id": "55678b24",
   "metadata": {},
   "outputs": [],
   "source": [
    "import numpy as np\n",
    "\n",
    "import itk\n",
    "\n",
    "from itkwidgets import view"
   ]
  },
  {
   "cell_type": "code",
   "execution_count": 15,
   "id": "cc162eba",
   "metadata": {},
   "outputs": [
    {
     "name": "stdout",
     "output_type": "stream",
     "text": [
      "(181, 217, 181)\n"
     ]
    }
   ],
   "source": [
    "atlas_im = itk.imread(\"../data/Atlas/atlas_brainweb.mha\")\n",
    "\n",
    "atlas_arr = itk.GetArrayFromImage(atlas_im)\n",
    "atlas_shape = atlas_arr.shape\n",
    "print(atlas_shape)"
   ]
  },
  {
   "cell_type": "code",
   "execution_count": 23,
   "id": "d7818c59",
   "metadata": {},
   "outputs": [],
   "source": [
    "atlas_mask_arr = np.empty(atlas_shape).astype(np.uint8)\n",
    "atlas_mask_arr[:,:,:70]=1\n",
    "atlas_mask_arr[:,:,70:110]=2\n",
    "atlas_mask_arr[:,:,110:]=3\n",
    "atlas_mask_im = itk.GetImageFromArray(atlas_mask_arr)\n",
    "atlas_mask_im.CopyInformation(atlas_im)"
   ]
  },
  {
   "cell_type": "code",
   "execution_count": 24,
   "id": "ecd9c417",
   "metadata": {
    "scrolled": true
   },
   "outputs": [
    {
     "data": {
      "application/vnd.jupyter.widget-view+json": {
       "model_id": "b4575cb11f974420b195fcbd58f0094b",
       "version_major": 2,
       "version_minor": 0
      },
      "text/plain": [
       "Viewer(geometries=[], gradient_opacity=0.22, interpolation=False, point_sets=[], rendered_image=<itk.itkImageP…"
      ]
     },
     "metadata": {},
     "output_type": "display_data"
    }
   ],
   "source": [
    "view(atlas_im, label_image=atlas_mask_im)"
   ]
  },
  {
   "cell_type": "code",
   "execution_count": 25,
   "id": "f71f1f1c",
   "metadata": {},
   "outputs": [],
   "source": [
    "itk.imwrite(atlas_mask_im,\"atlas_brainweb_mask.mha\")"
   ]
  }
 ],
 "metadata": {
  "kernelspec": {
   "display_name": "Python 3",
   "language": "python",
   "name": "python3"
  },
  "language_info": {
   "codemirror_mode": {
    "name": "ipython",
    "version": 3
   },
   "file_extension": ".py",
   "mimetype": "text/x-python",
   "name": "python",
   "nbconvert_exporter": "python",
   "pygments_lexer": "ipython3",
   "version": "3.7.10"
  }
 },
 "nbformat": 4,
 "nbformat_minor": 5
}
